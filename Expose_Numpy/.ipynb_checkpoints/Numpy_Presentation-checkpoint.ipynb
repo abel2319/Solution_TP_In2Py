{
 "cells": [
  {
   "cell_type": "markdown",
   "metadata": {},
   "source": [
    "<div class=\"alert alert-block alert-info\" style=\"background-color: black; border: 0px; -moz-border-radius: 10px; -webkit-border-radius: 10px;\">\n",
    "<br/><br/>\n",
    "<h3 style=\"font-size: 35px; color: white; align: center;\"><center>\n",
    "<img src=\"ban2.jpeg\" width=\"400px\" /><br/><br/>\n",
    " </center></h3>\n",
    "\n",
    "</div>\n",
    "<p><left> <b>Présenté par <span style=\"color:brown;font-size:1.6em\"> Abel KPOHINTO</span> </b></left></p>\n",
    "<h2 style=\"color:blue;\">Sommaire</h2>\n",
    "<ol>\n",
    "    <il><h3>Introduction</h3></il>\n",
    "    <il><h3>Qu'est ce que Numpy?</h3></il>\n",
    "    <il><h3>Creation et Manipulation d'odjet array de NumPy</h3></il>\n",
    "    <il><h3>Bon a savoir</h3></il>\n",
    "    <il><h3>Conclusion</h3></il>\n",
    "    <il><h3>Bibliographie</h3></il>\n",
    "</ol>"
   ]
  },
  {
   "cell_type": "markdown",
   "metadata": {},
   "source": [
    "<h1>Introduction</h1>\n",
    "Il est inutil de rappler aujourd'hui l'importance des Mathématiques, tant elles sont présente partout, et surtout avec les étroits liens qu'elles ont avec l'infromatique. Avec les grandes avancées scientifiques, les recherches se complexifient d'avantage faisant appel de plus en plus au conceptes déjà resolus, il est donc aisé de comprendre que la nécessité d'avoir des outils automatiques qui permettent une manipulation précise des données. En tant  qu'ingénieur, scientifique ou mathématicien, nous le savons bien, <strong>les matrices</strong> sont la base de tout et pour simplifier leurs utilisations le langage Python propose la bibliothèque <em>NumPy(Numerical Python)</em>\n",
    "<left>\n",
    "<img src=\"cube.jpeg\" width=\"100px\" />\n",
    "</left>\n",
    "<h1>Qu'est ce que Numpy?</h1>\n",
    "<p>NumPy est le package fondamental pour le calcul scientifique en Python créé en 2005 par Travis Oliphant. Il s'agit d'une bibliothèque Python qui fournit un objet tableau multidimensionnel et un assortiment de routines pour des opérations rapides sur des tableaux, y compris mathématiques, logiques, manipulation de forme, tri, sélection, transformées de Fourier discrètes, algèbre linéaire de base, opérations statistiques de base, simulation aléatoire et bien plus encore.</p>"
   ]
  },
  {
   "cell_type": "markdown",
   "metadata": {},
   "source": [
    "<h1>Commeent utiliser Numpy?</h1>\n",
    "<p>Pour profiter De NumPy, faut d'or et déjà la télécharger(Voir le site officielde <a href=\"https://numpy.org/\">NumPy</a>\"), puis l'inclure dans notre fichier de travail (on écrit : <strong>import numpy(import numpy s np)</strong></p>\n",
    "<h3>Les fondamentaux</h3>\n",
    "L'objet principal de NumPy est le tableau multidimensionnel homogène. Il s'agit d'un tableau d'éléments (généralement des nombres), tous les même type, indexé par un tuple d'entiers non négatifs. Dans NumPy, les dimenssions(cotes) sont appelées axes. Par exemple, le tableau des coordonnées d'un point dans l'espace 3D, [1, 2, 1], a un axe.\n",
    "<p>La classe de tableau que propose NumPy est appelée <em>ndarray</em>. Il est également connu sous le nom de tableau d'alias. Les attributs les plus importants d'un objet \"ndarray\" sont : </p>\n",
    "\n",
    "Guide de l'utilisateur de NumPy, version 1.22.4\n",
    "<ul>\n",
    "    <il><strong>ndarray.dim : </strong>le nombre d'axes (dimensions) du tableau</il><br/><br/>\n",
    "    <il><strong>ndarray.shape : </strong> les dimensions du tableau. C'est un tuple d'entiers indiquant la taille du tableau dans chaque dimension. Pour une matrice avec n lignes et m colonnes, shape sera (n,m). La longueur du tuple shape est donc le nombre d'axes, ndim.</il><br/><br/>\n",
    "    <il><strong>ndarray.size : </strong>le nombre total d'éléments du tableau. Il est égal au produit des éléments de shape</il><br/><br/>\n",
    "    <il><strong>ndarray.dtype : </strong>un objet décrivant le type des éléments du tableau. On peut créer ou spécifier des dtype en utilisant les types standard de Python. De plus, NumPy fournit ses propres types. numpy.int32, numpy.int16, et numpy.float64 sont quelques exemples.</il><br/><br/>\n",
    "    <il><strong>ndarray.itemsize : </strong>la taille en octets de chaque élément du tableau. Par exemple, un tableau d'éléments de type float64 a itemsize 8 (=64/8), tandis qu'un tableau de type complex32 a une taille d'élément de 4 (=32/8). Il est équivalent à ndarray.dtype.itemsize.</il><br/><br/>\n",
    "    <il><strong>ndarray.data : </strong>le tampon contenant les éléments réels du tableau. Normalement, nous n'aurons pas besoin d'utiliser cet attribut parce que nous accéderons aux éléments d'un tableau en utilisant des facilités d'indexation.\n",
    "    </il>\n",
    "</ul>\n",
    "<h2>Exemple:</h2>"
   ]
  },
  {
   "cell_type": "code",
   "execution_count": 6,
   "metadata": {
    "scrolled": true
   },
   "outputs": [
    {
     "name": "stdout",
     "output_type": "stream",
     "text": [
      "[[ 0  1  2  3  4]\n",
      " [ 5  6  7  8  9]\n",
      " [10 11 12 13 14]]\n",
      "(3, 5)\n",
      "2\n",
      "int64\n",
      "8\n",
      "15\n",
      "<class 'numpy.ndarray'>\n",
      "[6 7 8]\n",
      "<class 'numpy.ndarray'>\n",
      "(3,)\n"
     ]
    }
   ],
   "source": [
    "import numpy as np\n",
    "a = np.arange(15).reshape(3, 5)\n",
    "print(a)\n",
    "print(a.shape)\n",
    "print(a.ndim)\n",
    "print(a.dtype.name)\n",
    "print(a.itemsize)\n",
    "print(a.size)\n",
    "print(type(a))\n",
    "b = np.array([6, 7, 8])\n",
    "print(b)\n",
    "print(type(b))\n",
    "print(b.shape)"
   ]
  },
  {
   "cell_type": "markdown",
   "metadata": {},
   "source": [
    "<h2>Creation et Manipulation d'odjet array de NumPy</h2>\n",
    "Il deja savoir que NumPy n'accepte la creation de tableaux contenant des types unique, cest-à-dire on ne peut avooir un tableau contenant deux type comme <em>float</em> et <em>int</em>, NumPy fera automatiquement la convertion. Il est important de savoir que l'objet ndarray de NumPy possède pplusieurs façon d'être instancié, c'est-à-dire à plusieurs constructeurs :  \n",
    "<p>array : Construit un tablea avec les listes qu'on lui passe en paramètre.</p>\n",
    "<p>zeros(ou d'autre nombre) : Construit un tableau où tous les éléments sont à 0(ou le nombre choisi).</p>\n",
    "<p>empty :Créer un tableau, mais laisser sa mémoire allouée inchangée.</p>\n",
    "<p>dtype : Crèe un tableau de type</p>\n",
    "\n",
    "<h2>Exemple:</h2>"
   ]
  },
  {
   "cell_type": "code",
   "execution_count": 8,
   "metadata": {},
   "outputs": [
    {
     "name": "stdout",
     "output_type": "stream",
     "text": [
      "[1 2 3 4]\n",
      "===========a===============\n",
      "[[1.5 2.  3. ]\n",
      " [4.  5.  6. ]]\n",
      "============b==============\n",
      "[   0    1    2 ... 9997 9998 9999]\n",
      "============c==============\n",
      "[[   0    1    2 ...   97   98   99]\n",
      " [ 100  101  102 ...  197  198  199]\n",
      " [ 200  201  202 ...  297  298  299]\n",
      " ...\n",
      " [9700 9701 9702 ... 9797 9798 9799]\n",
      " [9800 9801 9802 ... 9897 9898 9899]\n",
      " [9900 9901 9902 ... 9997 9998 9999]]\n",
      "============d==============\n",
      "[[0. 0. 0.]\n",
      " [0. 0. 0.]]\n",
      "============A==============\n",
      "[[1. 1. 1.]\n",
      " [1. 1. 1.]]\n",
      "===========B===============\n",
      "[[-0.03974439 -1.30468186  0.15207871]\n",
      " [ 1.29692239 -0.32882444  0.50102373]]\n",
      "============C==============\n",
      "[[0.79020419 0.82983263 0.05035243]\n",
      " [0.34786557 0.21249831 0.11080568]]\n",
      "==============D============\n"
     ]
    }
   ],
   "source": [
    "a = np.array([1, 2, 3, 4])\n",
    "b = np.array([(1.5, 2, 3), (4, 5, 6)])\n",
    "c = np.arange(10000)\n",
    "d = np.arange(10000).reshape(100, 100)\n",
    "A = np.zeros((2, 3)) # tableau de 0 aux dimensions 2x3\n",
    "B = np.ones((2, 3)) # tableau de 1 aux dimensions 2x3\n",
    "C = np.random.randn(2, 3) # tableau aléatoire (distribution normale) aux dimensions 2x3\n",
    "D = np.random.rand(2, 3) # tableau aléatoire (distribution uniforme)\n",
    "print(a)\n",
    "print(\"===========a===============\")\n",
    "print(b)\n",
    "print(\"============b==============\")\n",
    "print(c)\n",
    "print(\"============c==============\")\n",
    "print(d)\n",
    "print(\"============d==============\")\n",
    "print(A)\n",
    "print(\"============A==============\")\n",
    "print(B)\n",
    "print(\"===========B===============\")\n",
    "print(C)\n",
    "print(\"============C==============\")\n",
    "print(D)\n",
    "print(\"==============D============\")"
   ]
  },
  {
   "cell_type": "markdown",
   "metadata": {},
   "source": [
    "Alors il faut savoir aussi qu'un dnarray possède un prototype et donc il est possible de créer un tableau à partir de ce dernier :<br/> <strong>class numpy.ndarray(shape, dtype=float, buffer=None, offset=0, strides=None, order=None)</strong><br/>\n",
    "example :"
   ]
  },
  {
   "cell_type": "code",
   "execution_count": 9,
   "metadata": {},
   "outputs": [
    {
     "name": "stdout",
     "output_type": "stream",
     "text": [
      "[2 3]\n"
     ]
    }
   ],
   "source": [
    "test = np.ndarray((2,), buffer=np.array([1,2,3]), offset=np.int_().itemsize, dtype=int)\n",
    "print(test)"
   ]
  },
  {
   "cell_type": "markdown",
   "metadata": {},
   "source": [
    "En ce qui concerne les autres cinstructeur et pour plus de detail sur lle prototype de la class ndarray, consultez cette <a href=\"https://numpy.org/doc/stable/reference/generated/numpy.ndarray.html\">documentation</a>"
   ]
  },
  {
   "cell_type": "markdown",
   "metadata": {},
   "source": [
    "<p>Nous venons de voir différentes manière de créer une tableau avec NumPy et maintenant comment les manipule t-on.</p>\n",
    "<p>Alors la classe ndarray possède plusieurs propriétés(méthodes) facilitant les calculs qu'il aurait de longue ligne de code pour les faire </p>\n",
    "<h3>Manipulation des tableau</h3>"
   ]
  },
  {
   "cell_type": "code",
   "execution_count": 29,
   "metadata": {},
   "outputs": [
    {
     "name": "stdout",
     "output_type": "stream",
     "text": [
      "[0 1 2 3]\n",
      "==========================\n",
      "[20 29 38 47]\n",
      "==========================\n",
      "[0 1 4 9]\n",
      "==========================\n",
      "[ 9.12945251 -9.88031624  7.4511316  -2.62374854]\n",
      "==========================\n",
      "[ True  True False False]\n",
      "==========================\n",
      "==========================\n",
      "[[3 3 3]\n",
      " [3 3 3]]\n",
      "==========================\n",
      "[[3.43227951 3.33259226 3.87349707]\n",
      " [2.34352488 3.91555935 3.50081951]]\n",
      "==========================\n",
      "float64\n",
      "[1. 1. 1.]\n",
      "==========================\n",
      "[0.54030231+0.84147098j 0.54030231+0.84147098j 0.54030231+0.84147098j]\n",
      "==========================\n"
     ]
    }
   ],
   "source": [
    "\n",
    "a = np.array([20, 30, 40, 50])\n",
    "b = np.arange(4)\n",
    "\n",
    "print(b)\n",
    "print(\"==========================\")\n",
    "c = a - b\n",
    "print(c)\n",
    "print(\"==========================\")\n",
    "print(b**2)\n",
    "print(\"==========================\")\n",
    "print(10 * np.sin(a))\n",
    "print(\"==========================\")\n",
    "print(a < 35)\n",
    "print(\"==========================\")\n",
    "a = np.ones((2, 3), dtype=int)\n",
    "b = np.random.randn(2, 3)\n",
    "print(\"==========================\")\n",
    "a *= 3\n",
    "print(a)\n",
    "print(\"==========================\")\n",
    "b += a\n",
    "print(b)\n",
    "print(\"==========================\")\n",
    "a = np.ones(3, dtype=np.int32)\n",
    "b = np.zeros((3,))\n",
    "print(b.dtype.name)\n",
    "c = a + b\n",
    "print(c)\n",
    "print(\"==========================\")\n",
    "c.dtype.name\n",
    "d = np.exp(c * 1j)\n",
    "print(d)\n",
    "print(\"==========================\")\n",
    "\n"
   ]
  },
  {
   "cell_type": "markdown",
   "metadata": {},
   "source": [
    ">Nous venons de présenter quelques fonction(methodes) que propose la classe ndarray mais il en existe beaucoup d'autre. "
   ]
  },
  {
   "cell_type": "code",
   "execution_count": 27,
   "metadata": {},
   "outputs": [
    {
     "name": "stdout",
     "output_type": "stream",
     "text": [
      "['T', '__abs__', '__add__', '__and__', '__array__', '__array_finalize__', '__array_function__', '__array_interface__', '__array_prepare__', '__array_priority__', '__array_struct__', '__array_ufunc__', '__array_wrap__', '__bool__', '__class__', '__complex__', '__contains__', '__copy__', '__deepcopy__', '__delattr__', '__delitem__', '__dir__', '__divmod__', '__doc__', '__eq__', '__float__', '__floordiv__', '__format__', '__ge__', '__getattribute__', '__getitem__', '__gt__', '__hash__', '__iadd__', '__iand__', '__ifloordiv__', '__ilshift__', '__imatmul__', '__imod__', '__imul__', '__index__', '__init__', '__init_subclass__', '__int__', '__invert__', '__ior__', '__ipow__', '__irshift__', '__isub__', '__iter__', '__itruediv__', '__ixor__', '__le__', '__len__', '__lshift__', '__lt__', '__matmul__', '__mod__', '__mul__', '__ne__', '__neg__', '__new__', '__or__', '__pos__', '__pow__', '__radd__', '__rand__', '__rdivmod__', '__reduce__', '__reduce_ex__', '__repr__', '__rfloordiv__', '__rlshift__', '__rmatmul__', '__rmod__', '__rmul__', '__ror__', '__rpow__', '__rrshift__', '__rshift__', '__rsub__', '__rtruediv__', '__rxor__', '__setattr__', '__setitem__', '__setstate__', '__sizeof__', '__str__', '__sub__', '__subclasshook__', '__truediv__', '__xor__', 'all', 'any', 'argmax', 'argmin', 'argpartition', 'argsort', 'astype', 'base', 'byteswap', 'choose', 'clip', 'compress', 'conj', 'conjugate', 'copy', 'ctypes', 'cumprod', 'cumsum', 'data', 'diagonal', 'dot', 'dtype', 'dump', 'dumps', 'fill', 'flags', 'flat', 'flatten', 'getfield', 'imag', 'item', 'itemset', 'itemsize', 'max', 'mean', 'min', 'nbytes', 'ndim', 'newbyteorder', 'nonzero', 'partition', 'prod', 'ptp', 'put', 'ravel', 'real', 'repeat', 'reshape', 'resize', 'round', 'searchsorted', 'setfield', 'setflags', 'shape', 'size', 'sort', 'squeeze', 'std', 'strides', 'sum', 'swapaxes', 'take', 'tobytes', 'tofile', 'tolist', 'tostring', 'trace', 'transpose', 'var', 'view']\n"
     ]
    }
   ],
   "source": [
    "print(dir(np.ndarray))"
   ]
  },
  {
   "cell_type": "markdown",
   "metadata": {},
   "source": [
    "<h2>Bon a savoir</h2>\n",
    "<p>En Python, nous avons des listes qui servent de tableaux, mais elles sont lentes à traiter.\n",
    "NumPy vise à fournir un objet tableau qui est jusqu'à 50 fois plus rapide que les listes traditionnelles de Python. </p>\n",
    "<p>Pourquoi NumPy est-il plus rapide que les listes ?\n",
    "Les tableaux NumPy sont stockés à un endroit continu de la mémoire, contrairement aux listes, de sorte que les processus peuvent y accéder et les manipuler très efficacement.Aussi NumPy est écrit pour partie en Python, mais la plupart des parties qui nécessitent des calculs rapides sont écrites en C ou C++.</p>\n",
    "Pour finir vous devez savoir que NumPy est une library open source et que vous pouvez contribuer à son dévéloppement. Pour avoir le code de NumPy il suffit d'aller sur cette page <a href=\"https://github.com/numpy/numpy\"> https://github.com/numpy/numpy</a>"
   ]
  },
  {
   "cell_type": "markdown",
   "metadata": {},
   "source": [
    "<h2>Conclusion</h2>\n",
    "<p>Nous n'avons jeté qu'un coup d'œil très bref à NumPy. Toutefois cela nous a permis de voir l'importance de cette librairie. Nous vous invitons donc à approfondir le sujet avec la documentation utilisé pour ce travail.</p>"
   ]
  },
  {
   "cell_type": "markdown",
   "metadata": {},
   "source": [
    "<h1>Bibliographie</h1>\n",
    "<a href=\"https://numpy.org/doc/stable/numpy-user.pdf\">https://numpy.org/doc/stable/numpy-user.pdf</a><br/><br/>\n",
    "<a href=\"https://numpy.org/doc/stable/reference/generated/numpy.ndarray.html\">https://numpy.org/doc/stable/reference/generated/numpy.ndarray.html</a><br/><br/>\n",
    "<a href=\"https://machinelearnia.com/numpy/\">https://machinelearnia.com/numpy/</a>"
   ]
  }
 ],
 "metadata": {
  "kernelspec": {
   "display_name": "Python 3 (ipykernel)",
   "language": "python",
   "name": "python3"
  },
  "language_info": {
   "codemirror_mode": {
    "name": "ipython",
    "version": 3
   },
   "file_extension": ".py",
   "mimetype": "text/x-python",
   "name": "python",
   "nbconvert_exporter": "python",
   "pygments_lexer": "ipython3",
   "version": "3.8.10"
  }
 },
 "nbformat": 4,
 "nbformat_minor": 4
}
