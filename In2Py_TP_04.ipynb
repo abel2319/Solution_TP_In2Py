{
 "cells": [
  {
   "cell_type": "markdown",
   "metadata": {
    "id": "QTGiuJVPhPxl"
   },
   "source": [
    "\n",
    "\n",
    "### <center> <b> <span style=\"color:blue;\"> Travaux Pratiques: Boucles </span> </b></center>\n"
   ]
  },
  {
   "cell_type": "markdown",
   "metadata": {
    "id": "6f-8X1xjhV4p"
   },
   "source": [
    "#### Exercice 0\n",
    ">On se propose de résoudre dans l'ensemble des entiers naturels l'inéquation $2n(n+1)<100$.\n",
    "En utilisant une boucle **While**, écris un programme qui renvoie les solutions entières de cette inéquation."
   ]
  },
  {
   "cell_type": "code",
   "execution_count": null,
   "metadata": {},
   "outputs": [],
   "source": [
    "n = 0\n",
    "while(2*n*(n+1) < 100):\n",
    "    print(n)\n",
    "    n += 1"
   ]
  },
  {
   "cell_type": "markdown",
   "metadata": {
    "id": "USaieP9c9Nc5"
   },
   "source": [
    "#### Exercice 1\n",
    "> En utilisant une boucle **For**, écris un programme qui calcule la somme des 30 premiers entiers naturels non nuls."
   ]
  },
  {
   "cell_type": "code",
   "execution_count": null,
   "metadata": {
    "id": "-a76WFyH9Nc7"
   },
   "outputs": [],
   "source": [
    "somme = 0\n",
    "for n in range(1, 31):\n",
    "    somme += n\n",
    "print(\"La somme des 30 premiers entiers naturels non nuls vaut :\", somme)"
   ]
  },
  {
   "cell_type": "markdown",
   "metadata": {
    "id": "_070Czs09Nc8"
   },
   "source": [
    "#### Exercice 2\n",
    ">Refais l'exercice 1 en utilisant une boucle **While**."
   ]
  },
  {
   "cell_type": "code",
   "execution_count": null,
   "metadata": {
    "id": "83HZ7Cc2FxUe"
   },
   "outputs": [],
   "source": [
    "somme = 0\n",
    "n = 1\n",
    "while(n < 31):\n",
    "    somme += n\n",
    "    n += 1\n",
    "print(\"La somme des 30 premiers entiers naturels non nuls vaut :\", somme)"
   ]
  },
  {
   "cell_type": "markdown",
   "metadata": {
    "id": "Hg1vBggc9Nc_"
   },
   "source": [
    "#### Exercice 3\n",
    ">En utilisant une boucle **For**, écris un programme qui calcule le produit des 9 premiers entiers naturels non nuls."
   ]
  },
  {
   "cell_type": "code",
   "execution_count": null,
   "metadata": {
    "id": "h0TkyvqS9NdB"
   },
   "outputs": [],
   "source": [
    "produit = 1\n",
    "for n in range(1, 10):\n",
    "    produit *= n\n",
    "print(\"Le produit des 9 premiers entiers naturels non nuls vaut :\", produit)"
   ]
  },
  {
   "cell_type": "markdown",
   "metadata": {
    "id": "a2iZm5y_9NdD"
   },
   "source": [
    "#### Exercice 4\n",
    "> Refais l'exercice 3 en utilisant une boucle **While**."
   ]
  },
  {
   "cell_type": "code",
   "execution_count": null,
   "metadata": {},
   "outputs": [],
   "source": [
    "produit = 1\n",
    "n = 1\n",
    "while(n < 10):\n",
    "    produit *= n\n",
    "    n += 1\n",
    "print(\"Le produit des 9 premiers entiers naturels non nuls vaut :\", produit)"
   ]
  },
  {
   "cell_type": "markdown",
   "metadata": {
    "id": "rb3k7Bve9NdE"
   },
   "source": [
    "#### Exercice 5 \n",
    ">Écris un programme qui demande à l'utilisateur de saisir un nombre n et qui affiche tous les nombres pairs de $1$ à $n$ en utilisant la boucle **For**."
   ]
  },
  {
   "cell_type": "code",
   "execution_count": null,
   "metadata": {
    "id": "ibXs9RCB9NdF"
   },
   "outputs": [],
   "source": [
    "n = int(input(\"Entrez un nombre : \"))\n",
    "for i in range(1, n+1):\n",
    "    if(i%2 == 0):\n",
    "        print(i)"
   ]
  },
  {
   "cell_type": "markdown",
   "metadata": {
    "id": "HPC3bfyE9NdG"
   },
   "source": [
    "#### Exercice 6\n",
    ">Refais l'exercice 5 en utilisant la boucle **While**."
   ]
  },
  {
   "cell_type": "code",
   "execution_count": null,
   "metadata": {
    "id": "dRuTyo3m9NdH"
   },
   "outputs": [],
   "source": [
    "n = int(input(\"Entrez un nombre : \"))\n",
    "i = 1\n",
    "while(i <= n):\n",
    "    if(i%2 == 0):\n",
    "        print(i)\n",
    "    i += 1"
   ]
  },
  {
   "cell_type": "markdown",
   "metadata": {
    "id": "6fNPIIdQ9NdH"
   },
   "source": [
    "#### Exercice 7\n",
    ">Écris un programme qui demande à l'utilisateur de saisir un nombre n et qui affiche tous les nombres impairs de 1 à n en utilisant la boucle **For**."
   ]
  },
  {
   "cell_type": "code",
   "execution_count": null,
   "metadata": {
    "id": "LuVEv9Lc9NdI"
   },
   "outputs": [],
   "source": [
    "n = int(input(\"Entrez un nombre : \"))\n",
    "for i in range(1, n+1):\n",
    "    if(i%2 != 0):\n",
    "        print(i)"
   ]
  },
  {
   "cell_type": "markdown",
   "metadata": {
    "id": "HIlapsJ89NdK"
   },
   "source": [
    "#### Exercice 8\n",
    ">Refais l'exercice 7 en utilisant la boucle **While**.\n",
    "\n"
   ]
  },
  {
   "cell_type": "code",
   "execution_count": null,
   "metadata": {
    "id": "Igvjeb2E9NdM"
   },
   "outputs": [],
   "source": [
    "n = int(input(\"Entrez un nombre : \"))\n",
    "i = 1\n",
    "while(i <= n):\n",
    "    if(i%2 != 0):\n",
    "        print(i)\n",
    "    i += 1"
   ]
  },
  {
   "cell_type": "markdown",
   "metadata": {
    "id": "KOYLg_e79NdU"
   },
   "source": [
    "#### Exercice 9\n",
    ">Écris un programme qui demande à l'utilisateur de saisir un nombre n et qui affiche sa table de multiplication  en utilisant la boucle **For**."
   ]
  },
  {
   "cell_type": "code",
   "execution_count": null,
   "metadata": {
    "id": "BvOU9oLw9NdU"
   },
   "outputs": [],
   "source": [
    "n = int(input(\"Entrez un nombre : \"))\n",
    "for i in range(0, 11):\n",
    "    print(n,\"x\",i,\"=\",n*i)"
   ]
  },
  {
   "cell_type": "markdown",
   "metadata": {
    "id": "Ukzy78L09NdV"
   },
   "source": [
    "#### Exercice 10\n",
    ">Refais l'exercice 9 en utilisant la boucle **While**."
   ]
  },
  {
   "cell_type": "code",
   "execution_count": null,
   "metadata": {
    "id": "fRJ3oufC9NdV"
   },
   "outputs": [],
   "source": [
    "n = int(input(\"Entrez un nombre : \"))\n",
    "i = 0\n",
    "while(i < 11):\n",
    "    print(n,\"x\",i,\"=\",n*i)\n",
    "    i += 1"
   ]
  },
  {
   "cell_type": "markdown",
   "metadata": {
    "id": "AQW435Hq9NdW"
   },
   "source": [
    "#### Exercice 11\n",
    ">Écris un programme qui demande à l'utilisateur d'entrer un nombre et de trouver tous ses diviseurs  en utilisant la boucle **For**."
   ]
  },
  {
   "cell_type": "code",
   "execution_count": null,
   "metadata": {
    "id": "Zjs_NfT89NdX"
   },
   "outputs": [],
   "source": [
    "n = int(input(\"Entrez un nombre : \"))\n",
    "if(n > 0):\n",
    "    for i in range(-n, n+1):\n",
    "        if(i != 0 and n%i == 0):\n",
    "            print(i)\n",
    "elif(n < 0):\n",
    "    for i in range(n, -n+1):\n",
    "        if(i != 0 and n%i == 0):\n",
    "            print(i)\n",
    "else:\n",
    "    print(\"Tout entier non nul divise 0.\")"
   ]
  },
  {
   "cell_type": "markdown",
   "metadata": {
    "id": "pGp6labk9NdX"
   },
   "source": [
    "#### Exercice 12\n",
    ">Écris un programme qui demande à l'utilisateur d'entrer un entier naturel n et de trouver tous sa factorielle n!  en utilisant la boucle **For**. On rappelle que $n!=n*(n-1)*(n-2)...3*2*1$."
   ]
  },
  {
   "cell_type": "code",
   "execution_count": null,
   "metadata": {
    "id": "iDw3TKDU9NdX"
   },
   "outputs": [],
   "source": [
    "n = int(input(\"Entrez un entier naturel : \"))\n",
    "fact = 1\n",
    "if(n >= 0):\n",
    "    for i in range(1, n+1):\n",
    "        fact *= i\n",
    "    print(fact)\n",
    "elif(n < 0):\n",
    "    print(\"On ne peut pas calculer la factorielle de ce nombre.\")"
   ]
  },
  {
   "cell_type": "markdown",
   "metadata": {
    "id": "eyKh1oTo9NdY"
   },
   "source": [
    "#### Exercice 13\n",
    ">Écris un programme qui demande à l'utilisateur d'entrer deux entiers naturels (plus petits que 15) et de trouver leur plus petit commun multiple utilisant la boucle **For**."
   ]
  },
  {
   "cell_type": "code",
   "execution_count": null,
   "metadata": {},
   "outputs": [],
   "source": [
    "a = int(input(\"Entrez un entier naturel : \"))\n",
    "b = int(input(\"Entrez un autre entier naturel : \"))\n",
    "if(a > 0 and a < 15 and b > 0 and b < 15):\n",
    "    c = a * b\n",
    "    ppcm = 1\n",
    "    if(a <= b):\n",
    "        d = b\n",
    "        e = a\n",
    "    else:\n",
    "        d = a\n",
    "        e = b\n",
    "    for i in range(d, c+1, d):\n",
    "        if(i%e == 0):\n",
    "            ppcm = i\n",
    "            break\n",
    "    print(\"ppcm({}, {}) =\".format(a, b), ppcm)\n",
    "else:\n",
    "    print(\"Impossible de calculer le ppcm.\")"
   ]
  },
  {
   "cell_type": "markdown",
   "metadata": {
    "id": "j4zO7-ak9NdZ"
   },
   "source": [
    "#### Exercice 14\n",
    ">Écris un programme pour afficher la série de Fibonacci jusqu'à n termes en utilisant une boucle."
   ]
  },
  {
   "cell_type": "code",
   "execution_count": null,
   "metadata": {
    "id": "5UknLOdY9NdZ"
   },
   "outputs": [],
   "source": [
    "n = 12\n",
    "(a, b, c) = (1, 1, 1)    # a & b servent au calcul des termes successifs\n",
    "                         # c est un simple compteur\n",
    "print(1)                 # affichage du premeir terme\n",
    "while(c < n):           # nous afficherons 12 termes au total\n",
    "    (a, b, c) = (b, a+b, c+1)\n",
    "    print(b)"
   ]
  },
  {
   "cell_type": "markdown",
   "metadata": {
    "id": "_RBVFZdl9Nda"
   },
   "source": [
    "#### Exercice 15\n",
    ">Écris, en utilisant une boucle **For**, un programme pour afficher 5 fois de suite le message \"Python est un très bon langage de programmation\"."
   ]
  },
  {
   "cell_type": "code",
   "execution_count": null,
   "metadata": {},
   "outputs": [],
   "source": [
    "for i in range(0, 5):\n",
    "    print(\"Python est un très bon langage de programmation\")"
   ]
  },
  {
   "cell_type": "markdown",
   "metadata": {
    "id": "VUgurSg59Nda"
   },
   "source": [
    "#### Exercice 16\n",
    ">Écris, en utilisant une boucle **While**, un programme pour afficher 7 fois de suite le message \"A cette allure je finirai par tout abandonner pour la programmation\"."
   ]
  },
  {
   "cell_type": "code",
   "execution_count": null,
   "metadata": {
    "id": "TgE99bdh9Ndb"
   },
   "outputs": [],
   "source": [
    "i = 0\n",
    "while(i < 7):\n",
    "    print(\"A cette allure je finirai par tout abandonner pour la programmation\")\n",
    "    i += 1"
   ]
  },
  {
   "cell_type": "markdown",
   "metadata": {
    "id": "DVgTXQRX9Ndb"
   },
   "source": [
    "#### Exercice 17\n",
    ">Écris, en utilisant une boucle **For**, un programme qui compte à l'envers de 10 à 0 puis qui affiche le message \"Partez\".\n"
   ]
  },
  {
   "cell_type": "code",
   "execution_count": null,
   "metadata": {
    "id": "w4L4KV6C9Ndc"
   },
   "outputs": [],
   "source": [
    "for i in range(10, -1, -1):\n",
    "    print(i)\n",
    "print(\"Partez\")"
   ]
  },
  {
   "cell_type": "markdown",
   "metadata": {
    "id": "raJAaAd29Ndc"
   },
   "source": [
    "#### Exercice 18\n",
    ">Écris, en utilisant une boucle **For**, un programme qui affiche chaque élément d'une chaine de caractère."
   ]
  },
  {
   "cell_type": "code",
   "execution_count": null,
   "metadata": {},
   "outputs": [],
   "source": [
    "ch = \"Ceci est une chaine\"\n",
    "for i in ch:\n",
    "    print(i)"
   ]
  },
  {
   "cell_type": "markdown",
   "metadata": {
    "id": "095_Dtoc9Ndf"
   },
   "source": [
    "#### Exercice 19\n",
    ">Écris, en utilisant une boucle **While**, un programme qui compte à l'envers de 10 à 0 puis qui affiche le message \"Partez\"."
   ]
  },
  {
   "cell_type": "code",
   "execution_count": null,
   "metadata": {
    "id": "MOV4pZzn9Ndg"
   },
   "outputs": [],
   "source": [
    "i = 10\n",
    "while(i >= 0):\n",
    "    print(i)\n",
    "    i -= 1\n",
    "print(\"Partez\")"
   ]
  },
  {
   "cell_type": "markdown",
   "metadata": {
    "id": "5sUU7dgJ9Ndh"
   },
   "source": [
    "<center> <b> <span style=\"color:orange;\"> 🎉 FÉLICITATIONS ! 🎉 </span> </b></center>"
   ]
  }
 ],
 "metadata": {
  "colab": {
   "collapsed_sections": [],
   "name": "In2Py_TP_04.ipynb",
   "provenance": []
  },
  "kernelspec": {
   "display_name": "Python 3 (ipykernel)",
   "language": "python",
   "name": "python3"
  },
  "language_info": {
   "codemirror_mode": {
    "name": "ipython",
    "version": 3
   },
   "file_extension": ".py",
   "mimetype": "text/x-python",
   "name": "python",
   "nbconvert_exporter": "python",
   "pygments_lexer": "ipython3",
   "version": "3.8.10"
  }
 },
 "nbformat": 4,
 "nbformat_minor": 1
}
