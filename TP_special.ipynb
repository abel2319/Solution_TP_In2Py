{
 "cells": [
  {
   "cell_type": "markdown",
   "id": "fae9907e",
   "metadata": {},
   "source": [
    "Q1: Compute the following expression for a natural number n"
   ]
  },
  {
   "cell_type": "code",
   "execution_count": 1,
   "id": "1404d359",
   "metadata": {},
   "outputs": [
    {
     "name": "stdout",
     "output_type": "stream",
     "text": [
      "Give a natural number5\n",
      "6\n",
      "3\n"
     ]
    }
   ],
   "source": [
    "n = int(input(\"Give a natural number\"))\n",
    "i=0\n",
    "sum=0\n",
    "j=1\n",
    "prod = 1\n",
    "while(i<n):\n",
    "    sum = sum+i\n",
    "    i=i+2\n",
    "print(sum)\n",
    "while(j<n):\n",
    "    prod = prod * j\n",
    "    j = j + 2\n",
    "print(prod)"
   ]
  },
  {
   "cell_type": "markdown",
   "id": "4ebf2773",
   "metadata": {},
   "source": [
    "Q2: Write a program that reads the number of the day of the week (from 0 to 6)"
   ]
  },
  {
   "cell_type": "code",
   "execution_count": 2,
   "id": "2bbca390",
   "metadata": {},
   "outputs": [
    {
     "name": "stdout",
     "output_type": "stream",
     "text": [
      "Give a number between 0 and 6 5\n",
      "Weekend\n"
     ]
    }
   ],
   "source": [
    "n = int(input(\"Give a number between 0 and 6 \"))\n",
    "if(n==5 or n==6):\n",
    "    print(\"Weekend\")\n",
    "elif n == 0:\n",
    "    print(\"Monday\")\n",
    "elif n == 1:\n",
    "    print(\"Tuesday\")\n",
    "elif n == 2:\n",
    "    print(\"Wednesday\")\n",
    "elif n == 3:\n",
    "    print(\"Thursday\")\n",
    "elif n == 4:\n",
    "    print(\"Friday\")"
   ]
  },
  {
   "cell_type": "markdown",
   "id": "01852c04",
   "metadata": {},
   "source": [
    "Q3: Make a program that, given a month number(0 to 11)."
   ]
  },
  {
   "cell_type": "code",
   "execution_count": 10,
   "id": "93112a14",
   "metadata": {},
   "outputs": [
    {
     "name": "stdout",
     "output_type": "stream",
     "text": [
      "Give a number between 0 and 11 7\n",
      "31 days\n"
     ]
    }
   ],
   "source": [
    "n = int(input(\"Give a number between 0 and 11 \"))\n",
    "if n==1:\n",
    "    print(\"28 days\")\n",
    "elif n==6:\n",
    "    print(\"31 days\")\n",
    "elif n<6 and n%2==0:\n",
    "    print(\"31 days\")\n",
    "elif n>6 and n%2==1:\n",
    "    print(\"31 days\")\n",
    "else:\n",
    "    print(\"30 days\")"
   ]
  },
  {
   "cell_type": "markdown",
   "id": "be5b4c13",
   "metadata": {},
   "source": [
    "Q4: Write a name 3 times"
   ]
  },
  {
   "cell_type": "code",
   "execution_count": 2,
   "id": "d0ec2b15",
   "metadata": {},
   "outputs": [
    {
     "name": "stdout",
     "output_type": "stream",
     "text": [
      "Abel\n",
      "Abel\n",
      "Abel\n",
      "Abel.\n",
      "Abel.\n",
      "Abel.\n"
     ]
    }
   ],
   "source": [
    "#------1version-------\n",
    "for i in range(0,3):\n",
    "    print(\"Abel\")\n",
    "#-----2version-------\n",
    "i=0\n",
    "while i<3:\n",
    "    print(\"Abel.\")\n",
    "    i=i+1"
   ]
  },
  {
   "cell_type": "markdown",
   "id": "8bb73574",
   "metadata": {},
   "source": [
    "Q5: The first 15 terms of Fibonacci sequence"
   ]
  },
  {
   "cell_type": "code",
   "execution_count": 4,
   "id": "5f2bc672",
   "metadata": {},
   "outputs": [
    {
     "name": "stdout",
     "output_type": "stream",
     "text": [
      "1 \n",
      " 1\n",
      "2\n",
      "3\n",
      "5\n",
      "8\n",
      "13\n",
      "21\n",
      "34\n",
      "55\n",
      "89\n",
      "144\n",
      "233\n",
      "377\n",
      "610\n"
     ]
    }
   ],
   "source": [
    "a0=1\n",
    "a1=1\n",
    "i=1\n",
    "tmp=0\n",
    "print(a0,\"\\n\",a1)\n",
    "while i<=13:\n",
    "    print(a0+a1)\n",
    "    tmp=a0+a1\n",
    "    a0=a1\n",
    "    a1=tmp\n",
    "    i=i+1\n"
   ]
  },
  {
   "cell_type": "markdown",
   "id": "7806c856",
   "metadata": {},
   "source": [
    "Q6: The first 30 terms of the sequence"
   ]
  },
  {
   "cell_type": "code",
   "execution_count": 7,
   "id": "6fc562bb",
   "metadata": {},
   "outputs": [
    {
     "name": "stdout",
     "output_type": "stream",
     "text": [
      "1 \n",
      " 2\n",
      "3.0\n",
      "5.5\n",
      "8.75\n",
      "15.375\n",
      "25.1875\n",
      "43.34375\n",
      "72.046875\n",
      "122.7109375\n",
      "205.44921875\n",
      "348.146484375\n",
      "584.9716796875\n",
      "988.77880859375\n",
      "1664.332763671875\n",
      "2809.7239990234375\n",
      "4733.527526855469\n",
      "7986.211761474609\n",
      "13460.160934448242\n",
      "22702.50399017334\n",
      "38271.573863983154\n",
      "64540.79491233826\n",
      "108813.54518413544\n",
      "183488.36241674423\n",
      "309371.271576643\n",
      "521662.36062180996\n",
      "879573.723464191\n",
      "1483111.5829757154\n",
      "2500703.2384162396\n",
      "4216574.785159551\n"
     ]
    }
   ],
   "source": [
    "x0 = 1\n",
    "x1 = 2\n",
    "i=1\n",
    "tmp=0\n",
    "print(x0,\"\\n\",x1)\n",
    "while i<=28:\n",
    "    print((0.5)*x1+2*x0)\n",
    "    tmp=(0.5)*x1+2*x0\n",
    "    x0=x1\n",
    "    x1=tmp\n",
    "    i=i+1"
   ]
  },
  {
   "cell_type": "markdown",
   "id": "e94b8447",
   "metadata": {},
   "source": [
    "Q7: Code to determine if a year is a leap year"
   ]
  },
  {
   "cell_type": "code",
   "execution_count": 6,
   "id": "8346fad5",
   "metadata": {},
   "outputs": [
    {
     "name": "stdout",
     "output_type": "stream",
     "text": [
      "Enter the Year to be checked: 2022\n",
      "2022 is Not the Leap Year\n"
     ]
    }
   ],
   "source": [
    "input_year = int(input(\"Enter the Year to be checked: \"))\n",
    "if (input_year%400 == 0):\n",
    "          print(\"%d is a Leap Year\" %input_year)\n",
    "elif (input_year%100 == 0):\n",
    "          print(\"%d is Not the Leap Year\" %input_year)\n",
    "elif (input_year%4 == 0):\n",
    "          print(\"%d is a Leap Year\" %input_year)\n",
    "else:\n",
    "          print(\"%d is Not the Leap Year\" %input_year)"
   ]
  },
  {
   "cell_type": "markdown",
   "id": "420f40f1",
   "metadata": {},
   "source": [
    "Q8-a:Sum of the square of the first n natural number"
   ]
  },
  {
   "cell_type": "code",
   "execution_count": 11,
   "id": "5c29fbae",
   "metadata": {},
   "outputs": [
    {
     "name": "stdout",
     "output_type": "stream",
     "text": [
      "Give a natural number5\n",
      "30\n",
      "30\n"
     ]
    }
   ],
   "source": [
    "#-----------1version--------------\n",
    "n = int(input(\"Give a natural number\"))\n",
    "sum1=0\n",
    "for i in range(0, n):\n",
    "    sum1 = sum1 + i*i\n",
    "print(sum1)\n",
    "#------------2version--------------\n",
    "i=0\n",
    "sum2=0\n",
    "while i<n:\n",
    "    sum2 = sum2 + i*i\n",
    "    i=i+1\n",
    "print(sum2)"
   ]
  },
  {
   "cell_type": "markdown",
   "id": "c6af083f",
   "metadata": {},
   "source": [
    "Q8-b: The smalles natural number"
   ]
  },
  {
   "cell_type": "code",
   "execution_count": 16,
   "id": "183022af",
   "metadata": {},
   "outputs": [
    {
     "name": "stdout",
     "output_type": "stream",
     "text": [
      "Give a number 6\n",
      "n =  3\n",
      "n =  3\n"
     ]
    }
   ],
   "source": [
    "M = int(input(\"Give a number \"))\n",
    "#------------1version----------\n",
    "sum1=0\n",
    "n=0\n",
    "for i in range(0, M):\n",
    "    sum1 = sum1 + i*i\n",
    "    if sum1>=M:\n",
    "        n=i\n",
    "        break\n",
    "print(\"n = \", n)\n",
    "#---------2version--------------\n",
    "i=0\n",
    "sum2=0\n",
    "n2=0\n",
    "while i<M:\n",
    "    sum2 = sum2 + i*i\n",
    "    if sum2>=M:\n",
    "        n2=i\n",
    "        break\n",
    "    i=i+1\n",
    "print(\"n = \",n2)\n"
   ]
  },
  {
   "cell_type": "markdown",
   "id": "0b97f78c",
   "metadata": {},
   "source": [
    "Q9-a: All the divisors of a given natural number"
   ]
  },
  {
   "cell_type": "code",
   "execution_count": 18,
   "id": "cbf338cf",
   "metadata": {},
   "outputs": [
    {
     "name": "stdout",
     "output_type": "stream",
     "text": [
      "Give a natural number 10\n",
      "the divisors are :\n",
      "1\n",
      "2\n",
      "5\n",
      "10\n"
     ]
    }
   ],
   "source": [
    "n = int(input(\"Give a natural number \"))\n",
    "i=1\n",
    "print(\"the divisors are :\")\n",
    "while i<=n:\n",
    "    if n%i==0:\n",
    "        print(i)\n",
    "    i = i+1"
   ]
  },
  {
   "cell_type": "markdown",
   "id": "53376607",
   "metadata": {},
   "source": [
    "Q9-b: prime factors of a given number"
   ]
  },
  {
   "cell_type": "code",
   "execution_count": 24,
   "id": "da8bab4d",
   "metadata": {},
   "outputs": [
    {
     "name": "stdout",
     "output_type": "stream",
     "text": [
      "Give a natural number 12\n",
      "1 5\n",
      "[1, 2, 3, 6]\n"
     ]
    }
   ],
   "source": [
    "n = int(input(\"Give a natural number \"))\n",
    "prime=[]\n",
    "i=1\n",
    "j=0\n",
    "while i <= n:\n",
    "    if n%i==0:\n",
    "        prime.append(i)\n",
    "    i=i+1\n",
    "print(prime[0], len(prime)-1)\n",
    "for i in range(1, len(prime)-1):\n",
    "    for j in range(i+1, len(prime)-1):\n",
    "        if prime[j]%prime[i]==0:\n",
    "            prime.pop(j)\n",
    "            j=i+1\n",
    "print(prime)"
   ]
  },
  {
   "cell_type": "code",
   "execution_count": null,
   "id": "023201e6",
   "metadata": {},
   "outputs": [],
   "source": []
  }
 ],
 "metadata": {
  "kernelspec": {
   "display_name": "Python 3 (ipykernel)",
   "language": "python",
   "name": "python3"
  },
  "language_info": {
   "codemirror_mode": {
    "name": "ipython",
    "version": 3
   },
   "file_extension": ".py",
   "mimetype": "text/x-python",
   "name": "python",
   "nbconvert_exporter": "python",
   "pygments_lexer": "ipython3",
   "version": "3.8.10"
  }
 },
 "nbformat": 4,
 "nbformat_minor": 5
}
